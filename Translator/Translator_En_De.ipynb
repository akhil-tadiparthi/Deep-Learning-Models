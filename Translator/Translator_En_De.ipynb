{
 "cells": [
  {
   "attachments": {},
   "cell_type": "markdown",
   "id": "32071864",
   "metadata": {},
   "source": [
    "## Dependencies"
   ]
  },
  {
   "cell_type": "code",
   "execution_count": 53,
   "id": "3fb8b649",
   "metadata": {},
   "outputs": [
    {
     "name": "stderr",
     "output_type": "stream",
     "text": [
      "/Library/Developer/CommandLineTools/Library/Frameworks/Python3.framework/Versions/3.9/lib/python3.9/pty.py:85: RuntimeWarning: os.fork() was called. os.fork() is incompatible with multithreaded code, and JAX is multithreaded, so this will likely lead to a deadlock.\n",
      "  pid, fd = os.forkpty()\n",
      "huggingface/tokenizers: The current process just got forked, after parallelism has already been used. Disabling parallelism to avoid deadlocks...\n",
      "To disable this warning, you can either:\n",
      "\t- Avoid using `tokenizers` before the fork if possible\n",
      "\t- Explicitly set the environment variable TOKENIZERS_PARALLELISM=(true | false)\n"
     ]
    },
    {
     "name": "stdout",
     "output_type": "stream",
     "text": [
      "Defaulting to user installation because normal site-packages is not writeable\n",
      "Requirement already satisfied: torch in /Users/tadiparthia/Library/Python/3.9/lib/python/site-packages (2.2.0)\n",
      "Requirement already satisfied: torchvision in /Users/tadiparthia/Library/Python/3.9/lib/python/site-packages (0.17.0)\n",
      "Requirement already satisfied: torchaudio in /Users/tadiparthia/Library/Python/3.9/lib/python/site-packages (2.2.0)\n",
      "Requirement already satisfied: filelock in /Users/tadiparthia/Library/Python/3.9/lib/python/site-packages (from torch) (3.13.1)\n",
      "Requirement already satisfied: typing-extensions>=4.8.0 in /Users/tadiparthia/Library/Python/3.9/lib/python/site-packages (from torch) (4.9.0)\n",
      "Requirement already satisfied: sympy in /Users/tadiparthia/Library/Python/3.9/lib/python/site-packages (from torch) (1.12)\n",
      "Requirement already satisfied: networkx in /Users/tadiparthia/Library/Python/3.9/lib/python/site-packages (from torch) (3.2.1)\n",
      "Requirement already satisfied: jinja2 in /Users/tadiparthia/Library/Python/3.9/lib/python/site-packages (from torch) (3.1.2)\n",
      "Requirement already satisfied: fsspec in /Users/tadiparthia/Library/Python/3.9/lib/python/site-packages (from torch) (2023.10.0)\n",
      "Requirement already satisfied: numpy in /Users/tadiparthia/Library/Python/3.9/lib/python/site-packages (from torchvision) (1.26.0)\n",
      "Requirement already satisfied: requests in /Users/tadiparthia/Library/Python/3.9/lib/python/site-packages (from torchvision) (2.31.0)\n",
      "Requirement already satisfied: pillow!=8.3.*,>=5.3.0 in /Users/tadiparthia/Library/Python/3.9/lib/python/site-packages (from torchvision) (10.0.1)\n",
      "Requirement already satisfied: MarkupSafe>=2.0 in /Users/tadiparthia/Library/Python/3.9/lib/python/site-packages (from jinja2->torch) (2.1.3)\n",
      "Requirement already satisfied: charset-normalizer<4,>=2 in /Users/tadiparthia/Library/Python/3.9/lib/python/site-packages (from requests->torchvision) (3.3.1)\n",
      "Requirement already satisfied: idna<4,>=2.5 in /Users/tadiparthia/Library/Python/3.9/lib/python/site-packages (from requests->torchvision) (3.4)\n",
      "Requirement already satisfied: urllib3<3,>=1.21.1 in /Users/tadiparthia/Library/Python/3.9/lib/python/site-packages (from requests->torchvision) (1.26.6)\n",
      "Requirement already satisfied: certifi>=2017.4.17 in /Users/tadiparthia/Library/Python/3.9/lib/python/site-packages (from requests->torchvision) (2023.7.22)\n",
      "Requirement already satisfied: mpmath>=0.19 in /Users/tadiparthia/Library/Python/3.9/lib/python/site-packages (from sympy->torch) (1.3.0)\n"
     ]
    },
    {
     "name": "stderr",
     "output_type": "stream",
     "text": [
      "huggingface/tokenizers: The current process just got forked, after parallelism has already been used. Disabling parallelism to avoid deadlocks...\n",
      "To disable this warning, you can either:\n",
      "\t- Avoid using `tokenizers` before the fork if possible\n",
      "\t- Explicitly set the environment variable TOKENIZERS_PARALLELISM=(true | false)\n"
     ]
    },
    {
     "name": "stdout",
     "output_type": "stream",
     "text": [
      "Defaulting to user installation because normal site-packages is not writeable\n",
      "Requirement already satisfied: transformers in /Users/tadiparthia/Library/Python/3.9/lib/python/site-packages (4.38.2)\n",
      "Requirement already satisfied: ipywidgets in /Users/tadiparthia/Library/Python/3.9/lib/python/site-packages (8.1.2)\n",
      "Requirement already satisfied: gradio in /Users/tadiparthia/Library/Python/3.9/lib/python/site-packages (4.21.0)\n",
      "Requirement already satisfied: filelock in /Users/tadiparthia/Library/Python/3.9/lib/python/site-packages (from transformers) (3.13.1)\n",
      "Requirement already satisfied: huggingface-hub<1.0,>=0.19.3 in /Users/tadiparthia/Library/Python/3.9/lib/python/site-packages (from transformers) (0.21.4)\n",
      "Requirement already satisfied: numpy>=1.17 in /Users/tadiparthia/Library/Python/3.9/lib/python/site-packages (from transformers) (1.26.0)\n",
      "Requirement already satisfied: packaging>=20.0 in /Users/tadiparthia/Library/Python/3.9/lib/python/site-packages (from transformers) (23.1)\n",
      "Requirement already satisfied: pyyaml>=5.1 in /Users/tadiparthia/Library/Python/3.9/lib/python/site-packages (from transformers) (6.0.1)\n",
      "Requirement already satisfied: regex!=2019.12.17 in /Users/tadiparthia/Library/Python/3.9/lib/python/site-packages (from transformers) (2023.12.25)\n",
      "Requirement already satisfied: requests in /Users/tadiparthia/Library/Python/3.9/lib/python/site-packages (from transformers) (2.31.0)\n",
      "Requirement already satisfied: tokenizers<0.19,>=0.14 in /Users/tadiparthia/Library/Python/3.9/lib/python/site-packages (from transformers) (0.15.2)\n",
      "Requirement already satisfied: safetensors>=0.4.1 in /Users/tadiparthia/Library/Python/3.9/lib/python/site-packages (from transformers) (0.4.2)\n",
      "Requirement already satisfied: tqdm>=4.27 in /Users/tadiparthia/Library/Python/3.9/lib/python/site-packages (from transformers) (4.66.1)\n",
      "Requirement already satisfied: comm>=0.1.3 in /Users/tadiparthia/Library/Python/3.9/lib/python/site-packages (from ipywidgets) (0.1.4)\n",
      "Requirement already satisfied: ipython>=6.1.0 in /Users/tadiparthia/Library/Python/3.9/lib/python/site-packages (from ipywidgets) (8.15.0)\n",
      "Requirement already satisfied: traitlets>=4.3.1 in /Users/tadiparthia/Library/Python/3.9/lib/python/site-packages (from ipywidgets) (5.9.0)\n",
      "Requirement already satisfied: widgetsnbextension~=4.0.10 in /Users/tadiparthia/Library/Python/3.9/lib/python/site-packages (from ipywidgets) (4.0.10)\n",
      "Requirement already satisfied: jupyterlab-widgets~=3.0.10 in /Users/tadiparthia/Library/Python/3.9/lib/python/site-packages (from ipywidgets) (3.0.10)\n",
      "Requirement already satisfied: aiofiles<24.0,>=22.0 in /Users/tadiparthia/Library/Python/3.9/lib/python/site-packages (from gradio) (23.2.1)\n",
      "Requirement already satisfied: altair<6.0,>=4.2.0 in /Users/tadiparthia/Library/Python/3.9/lib/python/site-packages (from gradio) (5.2.0)\n",
      "Requirement already satisfied: fastapi in /Users/tadiparthia/Library/Python/3.9/lib/python/site-packages (from gradio) (0.110.0)\n",
      "Requirement already satisfied: ffmpy in /Users/tadiparthia/Library/Python/3.9/lib/python/site-packages (from gradio) (0.3.2)\n",
      "Requirement already satisfied: gradio-client==0.12.0 in /Users/tadiparthia/Library/Python/3.9/lib/python/site-packages (from gradio) (0.12.0)\n",
      "Requirement already satisfied: httpx>=0.24.1 in /Users/tadiparthia/Library/Python/3.9/lib/python/site-packages (from gradio) (0.27.0)\n",
      "Requirement already satisfied: importlib-resources<7.0,>=1.3 in /Users/tadiparthia/Library/Python/3.9/lib/python/site-packages (from gradio) (6.1.0)\n",
      "Requirement already satisfied: jinja2<4.0 in /Users/tadiparthia/Library/Python/3.9/lib/python/site-packages (from gradio) (3.1.2)\n",
      "Requirement already satisfied: markupsafe~=2.0 in /Users/tadiparthia/Library/Python/3.9/lib/python/site-packages (from gradio) (2.1.3)\n",
      "Requirement already satisfied: matplotlib~=3.0 in /Users/tadiparthia/Library/Python/3.9/lib/python/site-packages (from gradio) (3.8.0)\n",
      "Requirement already satisfied: orjson~=3.0 in /Users/tadiparthia/Library/Python/3.9/lib/python/site-packages (from gradio) (3.9.15)\n",
      "Requirement already satisfied: pandas<3.0,>=1.0 in /Users/tadiparthia/Library/Python/3.9/lib/python/site-packages (from gradio) (2.1.2)\n",
      "Requirement already satisfied: pillow<11.0,>=8.0 in /Users/tadiparthia/Library/Python/3.9/lib/python/site-packages (from gradio) (10.0.1)\n",
      "Requirement already satisfied: pydantic>=2.0 in /Users/tadiparthia/Library/Python/3.9/lib/python/site-packages (from gradio) (2.6.3)\n",
      "Requirement already satisfied: pydub in /Users/tadiparthia/Library/Python/3.9/lib/python/site-packages (from gradio) (0.25.1)\n",
      "Requirement already satisfied: python-multipart>=0.0.9 in /Users/tadiparthia/Library/Python/3.9/lib/python/site-packages (from gradio) (0.0.9)\n",
      "Requirement already satisfied: ruff>=0.2.2 in /Users/tadiparthia/Library/Python/3.9/lib/python/site-packages (from gradio) (0.3.2)\n",
      "Requirement already satisfied: semantic-version~=2.0 in /Users/tadiparthia/Library/Python/3.9/lib/python/site-packages (from gradio) (2.10.0)\n",
      "Requirement already satisfied: tomlkit==0.12.0 in /Users/tadiparthia/Library/Python/3.9/lib/python/site-packages (from gradio) (0.12.0)\n",
      "Requirement already satisfied: typer<1.0,>=0.9 in /Users/tadiparthia/Library/Python/3.9/lib/python/site-packages (from typer[all]<1.0,>=0.9->gradio) (0.9.0)\n",
      "Requirement already satisfied: typing-extensions~=4.0 in /Users/tadiparthia/Library/Python/3.9/lib/python/site-packages (from gradio) (4.9.0)\n",
      "Requirement already satisfied: uvicorn>=0.14.0 in /Users/tadiparthia/Library/Python/3.9/lib/python/site-packages (from gradio) (0.28.0)\n",
      "Requirement already satisfied: fsspec in /Users/tadiparthia/Library/Python/3.9/lib/python/site-packages (from gradio-client==0.12.0->gradio) (2023.10.0)\n",
      "Requirement already satisfied: websockets<12.0,>=10.0 in /Users/tadiparthia/Library/Python/3.9/lib/python/site-packages (from gradio-client==0.12.0->gradio) (11.0.3)\n",
      "Requirement already satisfied: jsonschema>=3.0 in /Users/tadiparthia/Library/Python/3.9/lib/python/site-packages (from altair<6.0,>=4.2.0->gradio) (4.21.1)\n",
      "Requirement already satisfied: toolz in /Users/tadiparthia/Library/Python/3.9/lib/python/site-packages (from altair<6.0,>=4.2.0->gradio) (0.12.1)\n",
      "Requirement already satisfied: anyio in /Users/tadiparthia/Library/Python/3.9/lib/python/site-packages (from httpx>=0.24.1->gradio) (4.3.0)\n",
      "Requirement already satisfied: certifi in /Users/tadiparthia/Library/Python/3.9/lib/python/site-packages (from httpx>=0.24.1->gradio) (2023.7.22)\n",
      "Requirement already satisfied: httpcore==1.* in /Users/tadiparthia/Library/Python/3.9/lib/python/site-packages (from httpx>=0.24.1->gradio) (1.0.4)\n",
      "Requirement already satisfied: idna in /Users/tadiparthia/Library/Python/3.9/lib/python/site-packages (from httpx>=0.24.1->gradio) (3.4)\n",
      "Requirement already satisfied: sniffio in /Users/tadiparthia/Library/Python/3.9/lib/python/site-packages (from httpx>=0.24.1->gradio) (1.3.1)\n",
      "Requirement already satisfied: h11<0.15,>=0.13 in /Users/tadiparthia/Library/Python/3.9/lib/python/site-packages (from httpcore==1.*->httpx>=0.24.1->gradio) (0.14.0)\n",
      "Requirement already satisfied: zipp>=3.1.0 in /Users/tadiparthia/Library/Python/3.9/lib/python/site-packages (from importlib-resources<7.0,>=1.3->gradio) (3.16.2)\n",
      "Requirement already satisfied: backcall in /Users/tadiparthia/Library/Python/3.9/lib/python/site-packages (from ipython>=6.1.0->ipywidgets) (0.2.0)\n",
      "Requirement already satisfied: decorator in /Users/tadiparthia/Library/Python/3.9/lib/python/site-packages (from ipython>=6.1.0->ipywidgets) (5.1.1)\n",
      "Requirement already satisfied: jedi>=0.16 in /Users/tadiparthia/Library/Python/3.9/lib/python/site-packages (from ipython>=6.1.0->ipywidgets) (0.19.0)\n",
      "Requirement already satisfied: matplotlib-inline in /Users/tadiparthia/Library/Python/3.9/lib/python/site-packages (from ipython>=6.1.0->ipywidgets) (0.1.6)\n",
      "Requirement already satisfied: pickleshare in /Users/tadiparthia/Library/Python/3.9/lib/python/site-packages (from ipython>=6.1.0->ipywidgets) (0.7.5)\n",
      "Requirement already satisfied: prompt-toolkit!=3.0.37,<3.1.0,>=3.0.30 in /Users/tadiparthia/Library/Python/3.9/lib/python/site-packages (from ipython>=6.1.0->ipywidgets) (3.0.39)\n",
      "Requirement already satisfied: pygments>=2.4.0 in /Users/tadiparthia/Library/Python/3.9/lib/python/site-packages (from ipython>=6.1.0->ipywidgets) (2.16.1)\n",
      "Requirement already satisfied: stack-data in /Users/tadiparthia/Library/Python/3.9/lib/python/site-packages (from ipython>=6.1.0->ipywidgets) (0.6.2)\n",
      "Requirement already satisfied: exceptiongroup in /Users/tadiparthia/Library/Python/3.9/lib/python/site-packages (from ipython>=6.1.0->ipywidgets) (1.1.3)\n",
      "Requirement already satisfied: pexpect>4.3 in /Users/tadiparthia/Library/Python/3.9/lib/python/site-packages (from ipython>=6.1.0->ipywidgets) (4.8.0)\n",
      "Requirement already satisfied: appnope in /Users/tadiparthia/Library/Python/3.9/lib/python/site-packages (from ipython>=6.1.0->ipywidgets) (0.1.3)\n",
      "Requirement already satisfied: contourpy>=1.0.1 in /Users/tadiparthia/Library/Python/3.9/lib/python/site-packages (from matplotlib~=3.0->gradio) (1.1.1)\n",
      "Requirement already satisfied: cycler>=0.10 in /Users/tadiparthia/Library/Python/3.9/lib/python/site-packages (from matplotlib~=3.0->gradio) (0.11.0)\n",
      "Requirement already satisfied: fonttools>=4.22.0 in /Users/tadiparthia/Library/Python/3.9/lib/python/site-packages (from matplotlib~=3.0->gradio) (4.42.1)\n",
      "Requirement already satisfied: kiwisolver>=1.0.1 in /Users/tadiparthia/Library/Python/3.9/lib/python/site-packages (from matplotlib~=3.0->gradio) (1.4.5)\n",
      "Requirement already satisfied: pyparsing>=2.3.1 in /Users/tadiparthia/Library/Python/3.9/lib/python/site-packages (from matplotlib~=3.0->gradio) (3.1.1)\n",
      "Requirement already satisfied: python-dateutil>=2.7 in /Users/tadiparthia/Library/Python/3.9/lib/python/site-packages (from matplotlib~=3.0->gradio) (2.8.2)\n",
      "Requirement already satisfied: pytz>=2020.1 in /Users/tadiparthia/Library/Python/3.9/lib/python/site-packages (from pandas<3.0,>=1.0->gradio) (2023.3.post1)\n",
      "Requirement already satisfied: tzdata>=2022.1 in /Users/tadiparthia/Library/Python/3.9/lib/python/site-packages (from pandas<3.0,>=1.0->gradio) (2023.3)\n",
      "Requirement already satisfied: annotated-types>=0.4.0 in /Users/tadiparthia/Library/Python/3.9/lib/python/site-packages (from pydantic>=2.0->gradio) (0.6.0)\n",
      "Requirement already satisfied: pydantic-core==2.16.3 in /Users/tadiparthia/Library/Python/3.9/lib/python/site-packages (from pydantic>=2.0->gradio) (2.16.3)\n",
      "Requirement already satisfied: click<9.0.0,>=7.1.1 in /Users/tadiparthia/Library/Python/3.9/lib/python/site-packages (from typer<1.0,>=0.9->typer[all]<1.0,>=0.9->gradio) (8.1.7)\n",
      "Requirement already satisfied: colorama<0.5.0,>=0.4.3 in /Users/tadiparthia/Library/Python/3.9/lib/python/site-packages (from typer[all]<1.0,>=0.9->gradio) (0.4.6)\n",
      "Requirement already satisfied: shellingham<2.0.0,>=1.3.0 in /Users/tadiparthia/Library/Python/3.9/lib/python/site-packages (from typer[all]<1.0,>=0.9->gradio) (1.5.4)\n",
      "Requirement already satisfied: rich<14.0.0,>=10.11.0 in /Users/tadiparthia/Library/Python/3.9/lib/python/site-packages (from typer[all]<1.0,>=0.9->gradio) (13.7.1)\n",
      "Requirement already satisfied: starlette<0.37.0,>=0.36.3 in /Users/tadiparthia/Library/Python/3.9/lib/python/site-packages (from fastapi->gradio) (0.36.3)\n",
      "Requirement already satisfied: charset-normalizer<4,>=2 in /Users/tadiparthia/Library/Python/3.9/lib/python/site-packages (from requests->transformers) (3.3.1)\n",
      "Requirement already satisfied: urllib3<3,>=1.21.1 in /Users/tadiparthia/Library/Python/3.9/lib/python/site-packages (from requests->transformers) (1.26.6)\n",
      "Requirement already satisfied: parso<0.9.0,>=0.8.3 in /Users/tadiparthia/Library/Python/3.9/lib/python/site-packages (from jedi>=0.16->ipython>=6.1.0->ipywidgets) (0.8.3)\n",
      "Requirement already satisfied: attrs>=22.2.0 in /Users/tadiparthia/Library/Python/3.9/lib/python/site-packages (from jsonschema>=3.0->altair<6.0,>=4.2.0->gradio) (23.2.0)\n",
      "Requirement already satisfied: jsonschema-specifications>=2023.03.6 in /Users/tadiparthia/Library/Python/3.9/lib/python/site-packages (from jsonschema>=3.0->altair<6.0,>=4.2.0->gradio) (2023.12.1)\n",
      "Requirement already satisfied: referencing>=0.28.4 in /Users/tadiparthia/Library/Python/3.9/lib/python/site-packages (from jsonschema>=3.0->altair<6.0,>=4.2.0->gradio) (0.33.0)\n",
      "Requirement already satisfied: rpds-py>=0.7.1 in /Users/tadiparthia/Library/Python/3.9/lib/python/site-packages (from jsonschema>=3.0->altair<6.0,>=4.2.0->gradio) (0.18.0)\n",
      "Requirement already satisfied: ptyprocess>=0.5 in /Users/tadiparthia/Library/Python/3.9/lib/python/site-packages (from pexpect>4.3->ipython>=6.1.0->ipywidgets) (0.7.0)\n",
      "Requirement already satisfied: wcwidth in /Users/tadiparthia/Library/Python/3.9/lib/python/site-packages (from prompt-toolkit!=3.0.37,<3.1.0,>=3.0.30->ipython>=6.1.0->ipywidgets) (0.2.6)\n",
      "Requirement already satisfied: six>=1.5 in /Library/Developer/CommandLineTools/Library/Frameworks/Python3.framework/Versions/3.9/lib/python3.9/site-packages (from python-dateutil>=2.7->matplotlib~=3.0->gradio) (1.15.0)\n",
      "Requirement already satisfied: markdown-it-py>=2.2.0 in /Users/tadiparthia/Library/Python/3.9/lib/python/site-packages (from rich<14.0.0,>=10.11.0->typer[all]<1.0,>=0.9->gradio) (3.0.0)\n",
      "Requirement already satisfied: executing>=1.2.0 in /Users/tadiparthia/Library/Python/3.9/lib/python/site-packages (from stack-data->ipython>=6.1.0->ipywidgets) (1.2.0)\n",
      "Requirement already satisfied: asttokens>=2.1.0 in /Users/tadiparthia/Library/Python/3.9/lib/python/site-packages (from stack-data->ipython>=6.1.0->ipywidgets) (2.4.0)\n",
      "Requirement already satisfied: pure-eval in /Users/tadiparthia/Library/Python/3.9/lib/python/site-packages (from stack-data->ipython>=6.1.0->ipywidgets) (0.2.2)\n",
      "Requirement already satisfied: mdurl~=0.1 in /Users/tadiparthia/Library/Python/3.9/lib/python/site-packages (from markdown-it-py>=2.2.0->rich<14.0.0,>=10.11.0->typer[all]<1.0,>=0.9->gradio) (0.1.2)\n"
     ]
    },
    {
     "name": "stderr",
     "output_type": "stream",
     "text": [
      "huggingface/tokenizers: The current process just got forked, after parallelism has already been used. Disabling parallelism to avoid deadlocks...\n",
      "To disable this warning, you can either:\n",
      "\t- Avoid using `tokenizers` before the fork if possible\n",
      "\t- Explicitly set the environment variable TOKENIZERS_PARALLELISM=(true | false)\n"
     ]
    },
    {
     "name": "stdout",
     "output_type": "stream",
     "text": [
      "Defaulting to user installation because normal site-packages is not writeable\n",
      "Requirement already satisfied: tf-keras in /Users/tadiparthia/Library/Python/3.9/lib/python/site-packages (2.16.0)\n",
      "Requirement already satisfied: tensorflow<2.17,>=2.16 in /Users/tadiparthia/Library/Python/3.9/lib/python/site-packages (from tf-keras) (2.16.1)\n",
      "Requirement already satisfied: absl-py>=1.0.0 in /Users/tadiparthia/Library/Python/3.9/lib/python/site-packages (from tensorflow<2.17,>=2.16->tf-keras) (1.4.0)\n",
      "Requirement already satisfied: astunparse>=1.6.0 in /Users/tadiparthia/Library/Python/3.9/lib/python/site-packages (from tensorflow<2.17,>=2.16->tf-keras) (1.6.3)\n",
      "Requirement already satisfied: flatbuffers>=23.5.26 in /Users/tadiparthia/Library/Python/3.9/lib/python/site-packages (from tensorflow<2.17,>=2.16->tf-keras) (23.5.26)\n",
      "Requirement already satisfied: gast!=0.5.0,!=0.5.1,!=0.5.2,>=0.2.1 in /Users/tadiparthia/Library/Python/3.9/lib/python/site-packages (from tensorflow<2.17,>=2.16->tf-keras) (0.5.4)\n",
      "Requirement already satisfied: google-pasta>=0.1.1 in /Users/tadiparthia/Library/Python/3.9/lib/python/site-packages (from tensorflow<2.17,>=2.16->tf-keras) (0.2.0)\n",
      "Requirement already satisfied: h5py>=3.10.0 in /Users/tadiparthia/Library/Python/3.9/lib/python/site-packages (from tensorflow<2.17,>=2.16->tf-keras) (3.10.0)\n",
      "Requirement already satisfied: libclang>=13.0.0 in /Users/tadiparthia/Library/Python/3.9/lib/python/site-packages (from tensorflow<2.17,>=2.16->tf-keras) (16.0.6)\n",
      "Requirement already satisfied: ml-dtypes~=0.3.1 in /Users/tadiparthia/Library/Python/3.9/lib/python/site-packages (from tensorflow<2.17,>=2.16->tf-keras) (0.3.2)\n",
      "Requirement already satisfied: opt-einsum>=2.3.2 in /Users/tadiparthia/Library/Python/3.9/lib/python/site-packages (from tensorflow<2.17,>=2.16->tf-keras) (3.3.0)\n",
      "Requirement already satisfied: packaging in /Users/tadiparthia/Library/Python/3.9/lib/python/site-packages (from tensorflow<2.17,>=2.16->tf-keras) (23.1)\n",
      "Requirement already satisfied: protobuf!=4.21.0,!=4.21.1,!=4.21.2,!=4.21.3,!=4.21.4,!=4.21.5,<5.0.0dev,>=3.20.3 in /Users/tadiparthia/Library/Python/3.9/lib/python/site-packages (from tensorflow<2.17,>=2.16->tf-keras) (3.20.3)\n",
      "Requirement already satisfied: requests<3,>=2.21.0 in /Users/tadiparthia/Library/Python/3.9/lib/python/site-packages (from tensorflow<2.17,>=2.16->tf-keras) (2.31.0)\n",
      "Requirement already satisfied: setuptools in /Users/tadiparthia/Library/Python/3.9/lib/python/site-packages (from tensorflow<2.17,>=2.16->tf-keras) (69.1.1)\n",
      "Requirement already satisfied: six>=1.12.0 in /Library/Developer/CommandLineTools/Library/Frameworks/Python3.framework/Versions/3.9/lib/python3.9/site-packages (from tensorflow<2.17,>=2.16->tf-keras) (1.15.0)\n",
      "Requirement already satisfied: termcolor>=1.1.0 in /Users/tadiparthia/Library/Python/3.9/lib/python/site-packages (from tensorflow<2.17,>=2.16->tf-keras) (2.4.0)\n",
      "Requirement already satisfied: typing-extensions>=3.6.6 in /Users/tadiparthia/Library/Python/3.9/lib/python/site-packages (from tensorflow<2.17,>=2.16->tf-keras) (4.9.0)\n",
      "Requirement already satisfied: wrapt>=1.11.0 in /Users/tadiparthia/Library/Python/3.9/lib/python/site-packages (from tensorflow<2.17,>=2.16->tf-keras) (1.14.1)\n",
      "Requirement already satisfied: grpcio<2.0,>=1.24.3 in /Users/tadiparthia/Library/Python/3.9/lib/python/site-packages (from tensorflow<2.17,>=2.16->tf-keras) (1.59.0)\n",
      "Requirement already satisfied: tensorboard<2.17,>=2.16 in /Users/tadiparthia/Library/Python/3.9/lib/python/site-packages (from tensorflow<2.17,>=2.16->tf-keras) (2.16.2)\n",
      "Requirement already satisfied: keras>=3.0.0 in /Users/tadiparthia/Library/Python/3.9/lib/python/site-packages (from tensorflow<2.17,>=2.16->tf-keras) (3.0.5)\n",
      "Requirement already satisfied: tensorflow-io-gcs-filesystem>=0.23.1 in /Users/tadiparthia/Library/Python/3.9/lib/python/site-packages (from tensorflow<2.17,>=2.16->tf-keras) (0.34.0)\n",
      "Requirement already satisfied: numpy<2.0.0,>=1.23.5 in /Users/tadiparthia/Library/Python/3.9/lib/python/site-packages (from tensorflow<2.17,>=2.16->tf-keras) (1.26.0)\n",
      "Requirement already satisfied: wheel<1.0,>=0.23.0 in /Library/Developer/CommandLineTools/Library/Frameworks/Python3.framework/Versions/3.9/lib/python3.9/site-packages (from astunparse>=1.6.0->tensorflow<2.17,>=2.16->tf-keras) (0.37.0)\n",
      "Requirement already satisfied: rich in /Users/tadiparthia/Library/Python/3.9/lib/python/site-packages (from keras>=3.0.0->tensorflow<2.17,>=2.16->tf-keras) (13.7.1)\n",
      "Requirement already satisfied: namex in /Users/tadiparthia/Library/Python/3.9/lib/python/site-packages (from keras>=3.0.0->tensorflow<2.17,>=2.16->tf-keras) (0.0.7)\n",
      "Requirement already satisfied: dm-tree in /Users/tadiparthia/Library/Python/3.9/lib/python/site-packages (from keras>=3.0.0->tensorflow<2.17,>=2.16->tf-keras) (0.1.8)\n",
      "Requirement already satisfied: charset-normalizer<4,>=2 in /Users/tadiparthia/Library/Python/3.9/lib/python/site-packages (from requests<3,>=2.21.0->tensorflow<2.17,>=2.16->tf-keras) (3.3.1)\n",
      "Requirement already satisfied: idna<4,>=2.5 in /Users/tadiparthia/Library/Python/3.9/lib/python/site-packages (from requests<3,>=2.21.0->tensorflow<2.17,>=2.16->tf-keras) (3.4)\n",
      "Requirement already satisfied: urllib3<3,>=1.21.1 in /Users/tadiparthia/Library/Python/3.9/lib/python/site-packages (from requests<3,>=2.21.0->tensorflow<2.17,>=2.16->tf-keras) (1.26.6)\n",
      "Requirement already satisfied: certifi>=2017.4.17 in /Users/tadiparthia/Library/Python/3.9/lib/python/site-packages (from requests<3,>=2.21.0->tensorflow<2.17,>=2.16->tf-keras) (2023.7.22)\n",
      "Requirement already satisfied: markdown>=2.6.8 in /Users/tadiparthia/Library/Python/3.9/lib/python/site-packages (from tensorboard<2.17,>=2.16->tensorflow<2.17,>=2.16->tf-keras) (3.5.2)\n",
      "Requirement already satisfied: tensorboard-data-server<0.8.0,>=0.7.0 in /Users/tadiparthia/Library/Python/3.9/lib/python/site-packages (from tensorboard<2.17,>=2.16->tensorflow<2.17,>=2.16->tf-keras) (0.7.2)\n",
      "Requirement already satisfied: werkzeug>=1.0.1 in /Users/tadiparthia/Library/Python/3.9/lib/python/site-packages (from tensorboard<2.17,>=2.16->tensorflow<2.17,>=2.16->tf-keras) (3.0.0)\n",
      "Requirement already satisfied: importlib-metadata>=4.4 in /Users/tadiparthia/Library/Python/3.9/lib/python/site-packages (from markdown>=2.6.8->tensorboard<2.17,>=2.16->tensorflow<2.17,>=2.16->tf-keras) (6.8.0)\n",
      "Requirement already satisfied: MarkupSafe>=2.1.1 in /Users/tadiparthia/Library/Python/3.9/lib/python/site-packages (from werkzeug>=1.0.1->tensorboard<2.17,>=2.16->tensorflow<2.17,>=2.16->tf-keras) (2.1.3)\n",
      "Requirement already satisfied: markdown-it-py>=2.2.0 in /Users/tadiparthia/Library/Python/3.9/lib/python/site-packages (from rich->keras>=3.0.0->tensorflow<2.17,>=2.16->tf-keras) (3.0.0)\n",
      "Requirement already satisfied: pygments<3.0.0,>=2.13.0 in /Users/tadiparthia/Library/Python/3.9/lib/python/site-packages (from rich->keras>=3.0.0->tensorflow<2.17,>=2.16->tf-keras) (2.16.1)\n",
      "Requirement already satisfied: zipp>=0.5 in /Users/tadiparthia/Library/Python/3.9/lib/python/site-packages (from importlib-metadata>=4.4->markdown>=2.6.8->tensorboard<2.17,>=2.16->tensorflow<2.17,>=2.16->tf-keras) (3.16.2)\n",
      "Requirement already satisfied: mdurl~=0.1 in /Users/tadiparthia/Library/Python/3.9/lib/python/site-packages (from markdown-it-py>=2.2.0->rich->keras>=3.0.0->tensorflow<2.17,>=2.16->tf-keras) (0.1.2)\n"
     ]
    }
   ],
   "source": [
    "! pip3 install torch torchvision torchaudio\n",
    "!pip install transformers ipywidgets gradio --upgrade\n",
    "! pip install tf-keras\n",
    "import gradio as gr\n",
    "from transformers import pipeline\n"
   ]
  },
  {
   "attachments": {},
   "cell_type": "markdown",
   "id": "0dfbd02b",
   "metadata": {},
   "source": [
    "# Pipeline"
   ]
  },
  {
   "cell_type": "code",
   "execution_count": 45,
   "id": "b83d74a1",
   "metadata": {},
   "outputs": [
    {
     "name": "stderr",
     "output_type": "stream",
     "text": [
      "No model was supplied, defaulted to google-t5/t5-base and revision 686f1db (https://huggingface.co/google-t5/t5-base).\n",
      "Using a pipeline without specifying a model name and revision in production is not recommended.\n",
      "/Users/tadiparthia/Library/Python/3.9/lib/python/site-packages/transformers/models/t5/tokenization_t5_fast.py:171: FutureWarning: This tokenizer was incorrectly instantiated with a model max length of 512 which will be corrected in Transformers v5.\n",
      "For now, this behavior is kept to avoid breaking backwards compatibility when padding/encoding with `truncation is True`.\n",
      "- Be aware that you SHOULD NOT rely on google-t5/t5-base automatically truncating your input to 512 when padding/encoding.\n",
      "- If you want to encode/pad to sequences longer than 512 you can either instantiate this tokenizer with `model_max_length` or pass `max_length` when encoding/padding.\n",
      "- To avoid this warning, please instantiate this tokenizer with `model_max_length` set to your preferred value.\n",
      "  warnings.warn(\n"
     ]
    }
   ],
   "source": [
    "translation_pipeline = pipeline('translation_en_to_de')"
   ]
  },
  {
   "cell_type": "code",
   "execution_count": 55,
   "id": "54817648",
   "metadata": {},
   "outputs": [
    {
     "data": {
      "text/plain": [
       "'Ich liebe Eiscreme'"
      ]
     },
     "execution_count": 55,
     "metadata": {},
     "output_type": "execute_result"
    }
   ],
   "source": [
    "# Test\n",
    "results = translation_pipeline('I love ice cream')\n",
    "results[0]['translation_text']"
   ]
  },
  {
   "attachments": {},
   "cell_type": "markdown",
   "id": "3cfc9d30",
   "metadata": {},
   "source": [
    "# Gradio Function and Interface"
   ]
  },
  {
   "cell_type": "code",
   "execution_count": 48,
   "id": "56f67b8e",
   "metadata": {},
   "outputs": [],
   "source": [
    "def translate_transformers(from_text):\n",
    "    results = translation_pipeline(from_text)\n",
    "    return results[0]['translation_text']"
   ]
  },
  {
   "cell_type": "code",
   "execution_count": 50,
   "id": "8eb602ca",
   "metadata": {},
   "outputs": [
    {
     "data": {
      "text/plain": [
       "'Mein Name ist Akhil'"
      ]
     },
     "execution_count": 50,
     "metadata": {},
     "output_type": "execute_result"
    }
   ],
   "source": [
    "translate_transformers('My name is Akhil')"
   ]
  },
  {
   "cell_type": "code",
   "execution_count": 51,
   "id": "07e934d6",
   "metadata": {},
   "outputs": [],
   "source": [
    "import gradio as gr\n",
    "\n",
    "interface = gr.Interface(\n",
    "    fn=translate_transformers,\n",
    "    inputs=gr.Textbox(lines=2, placeholder='Text to translate'),\n",
    "    outputs='text'\n",
    ")\n"
   ]
  },
  {
   "cell_type": "code",
   "execution_count": 52,
   "id": "8dd3b825",
   "metadata": {},
   "outputs": [
    {
     "name": "stdout",
     "output_type": "stream",
     "text": [
      "Running on local URL:  http://127.0.0.1:7862\n",
      "\n",
      "To create a public link, set `share=True` in `launch()`.\n"
     ]
    },
    {
     "data": {
      "text/html": [
       "<div><iframe src=\"http://127.0.0.1:7862/\" width=\"100%\" height=\"500\" allow=\"autoplay; camera; microphone; clipboard-read; clipboard-write;\" frameborder=\"0\" allowfullscreen></iframe></div>"
      ],
      "text/plain": [
       "<IPython.core.display.HTML object>"
      ]
     },
     "metadata": {},
     "output_type": "display_data"
    },
    {
     "data": {
      "text/plain": []
     },
     "execution_count": 52,
     "metadata": {},
     "output_type": "execute_result"
    }
   ],
   "source": [
    "interface.launch()"
   ]
  },
  {
   "cell_type": "code",
   "execution_count": null,
   "id": "75c22227",
   "metadata": {},
   "outputs": [],
   "source": []
  },
  {
   "cell_type": "code",
   "execution_count": null,
   "id": "7dfbca92",
   "metadata": {},
   "outputs": [],
   "source": []
  }
 ],
 "metadata": {
  "kernelspec": {
   "display_name": "Python 3",
   "language": "python",
   "name": "python3"
  },
  "language_info": {
   "codemirror_mode": {
    "name": "ipython",
    "version": 3
   },
   "file_extension": ".py",
   "mimetype": "text/x-python",
   "name": "python",
   "nbconvert_exporter": "python",
   "pygments_lexer": "ipython3",
   "version": "3.9.6"
  }
 },
 "nbformat": 4,
 "nbformat_minor": 5
}
