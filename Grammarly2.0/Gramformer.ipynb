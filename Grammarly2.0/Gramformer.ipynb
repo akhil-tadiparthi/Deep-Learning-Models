{
 "cells": [
  {
   "cell_type": "markdown",
   "metadata": {},
   "source": [
    "# 1. Install and Import Dependencies"
   ]
  },
  {
   "cell_type": "code",
   "execution_count": 8,
   "metadata": {},
   "outputs": [
    {
     "name": "stderr",
     "output_type": "stream",
     "text": [
      "/Library/Developer/CommandLineTools/Library/Frameworks/Python3.framework/Versions/3.9/lib/python3.9/pty.py:85: RuntimeWarning: os.fork() was called. os.fork() is incompatible with multithreaded code, and JAX is multithreaded, so this will likely lead to a deadlock.\n",
      "  pid, fd = os.forkpty()\n"
     ]
    },
    {
     "name": "stdout",
     "output_type": "stream",
     "text": [
      "Defaulting to user installation because normal site-packages is not writeable\n",
      "Looking in links: https://download.pytorch.org/whl/lts/1.8/torch_lts.html\n",
      "\u001b[31mERROR: Could not find a version that satisfies the requirement torch==1.8.1+cu111 (from versions: 1.9.0, 1.10.0, 1.10.1, 1.10.2, 1.11.0, 1.12.0, 1.12.1, 1.13.0, 1.13.1, 2.0.0, 2.0.1, 2.1.0, 2.1.1, 2.1.2, 2.2.0, 2.2.1)\u001b[0m\u001b[31m\n",
      "\u001b[0m\u001b[31mERROR: No matching distribution found for torch==1.8.1+cu111\u001b[0m\u001b[31m\n",
      "\u001b[0m"
     ]
    }
   ],
   "source": [
    "!pip install torch==1.8.1+cu111 torchvision==0.9.1+cu111 torchaudio==0.8.1 -f https://download.pytorch.org/whl/lts/1.8/torch_lts.html"
   ]
  },
  {
   "cell_type": "code",
   "execution_count": 9,
   "metadata": {},
   "outputs": [
    {
     "name": "stdout",
     "output_type": "stream",
     "text": [
      "Defaulting to user installation because normal site-packages is not writeable\n",
      "Collecting git+https://github.com/PrithivirajDamodaran/Gramformer.git\n",
      "  Cloning https://github.com/PrithivirajDamodaran/Gramformer.git to /private/var/folders/6t/dsbm3zg568j74d6h0bgjsb800000gq/T/pip-req-build-kc59mycb\n",
      "  Running command git clone --filter=blob:none --quiet https://github.com/PrithivirajDamodaran/Gramformer.git /private/var/folders/6t/dsbm3zg568j74d6h0bgjsb800000gq/T/pip-req-build-kc59mycb\n",
      "  Resolved https://github.com/PrithivirajDamodaran/Gramformer.git to commit 23425cd2e98a919384cab6156af8adf1c9d0639a\n",
      "  Preparing metadata (setup.py) ... \u001b[?25ldone\n",
      "\u001b[?25hRequirement already satisfied: transformers in /Users/tadiparthia/Library/Python/3.9/lib/python/site-packages (from gramformer==1.0) (4.38.2)\n",
      "Requirement already satisfied: sentencepiece in /Users/tadiparthia/Library/Python/3.9/lib/python/site-packages (from gramformer==1.0) (0.2.0)\n",
      "Requirement already satisfied: python-Levenshtein in /Users/tadiparthia/Library/Python/3.9/lib/python/site-packages (from gramformer==1.0) (0.25.0)\n",
      "Requirement already satisfied: fuzzywuzzy in /Users/tadiparthia/Library/Python/3.9/lib/python/site-packages (from gramformer==1.0) (0.18.0)\n",
      "Requirement already satisfied: tokenizers in /Users/tadiparthia/Library/Python/3.9/lib/python/site-packages (from gramformer==1.0) (0.15.2)\n",
      "Requirement already satisfied: fsspec in /Users/tadiparthia/Library/Python/3.9/lib/python/site-packages (from gramformer==1.0) (2023.10.0)\n",
      "Requirement already satisfied: errant in /Users/tadiparthia/Library/Python/3.9/lib/python/site-packages (from gramformer==1.0) (3.0.0)\n",
      "Requirement already satisfied: spacy<4,>=3.2.0 in /Users/tadiparthia/Library/Python/3.9/lib/python/site-packages (from errant->gramformer==1.0) (3.7.4)\n",
      "Requirement already satisfied: rapidfuzz>=3.4.0 in /Users/tadiparthia/Library/Python/3.9/lib/python/site-packages (from errant->gramformer==1.0) (3.6.2)\n",
      "Requirement already satisfied: Levenshtein==0.25.0 in /Users/tadiparthia/Library/Python/3.9/lib/python/site-packages (from python-Levenshtein->gramformer==1.0) (0.25.0)\n",
      "Requirement already satisfied: huggingface_hub<1.0,>=0.16.4 in /Users/tadiparthia/Library/Python/3.9/lib/python/site-packages (from tokenizers->gramformer==1.0) (0.21.4)\n",
      "Requirement already satisfied: filelock in /Users/tadiparthia/Library/Python/3.9/lib/python/site-packages (from transformers->gramformer==1.0) (3.13.1)\n",
      "Requirement already satisfied: numpy>=1.17 in /Users/tadiparthia/Library/Python/3.9/lib/python/site-packages (from transformers->gramformer==1.0) (1.26.0)\n",
      "Requirement already satisfied: packaging>=20.0 in /Users/tadiparthia/Library/Python/3.9/lib/python/site-packages (from transformers->gramformer==1.0) (23.1)\n",
      "Requirement already satisfied: pyyaml>=5.1 in /Users/tadiparthia/Library/Python/3.9/lib/python/site-packages (from transformers->gramformer==1.0) (6.0.1)\n",
      "Requirement already satisfied: regex!=2019.12.17 in /Users/tadiparthia/Library/Python/3.9/lib/python/site-packages (from transformers->gramformer==1.0) (2023.12.25)\n",
      "Requirement already satisfied: requests in /Users/tadiparthia/Library/Python/3.9/lib/python/site-packages (from transformers->gramformer==1.0) (2.31.0)\n",
      "Requirement already satisfied: safetensors>=0.4.1 in /Users/tadiparthia/Library/Python/3.9/lib/python/site-packages (from transformers->gramformer==1.0) (0.4.2)\n",
      "Requirement already satisfied: tqdm>=4.27 in /Users/tadiparthia/Library/Python/3.9/lib/python/site-packages (from transformers->gramformer==1.0) (4.66.1)\n",
      "Requirement already satisfied: typing-extensions>=3.7.4.3 in /Users/tadiparthia/Library/Python/3.9/lib/python/site-packages (from huggingface_hub<1.0,>=0.16.4->tokenizers->gramformer==1.0) (4.9.0)\n",
      "Requirement already satisfied: spacy-legacy<3.1.0,>=3.0.11 in /Users/tadiparthia/Library/Python/3.9/lib/python/site-packages (from spacy<4,>=3.2.0->errant->gramformer==1.0) (3.0.12)\n",
      "Requirement already satisfied: spacy-loggers<2.0.0,>=1.0.0 in /Users/tadiparthia/Library/Python/3.9/lib/python/site-packages (from spacy<4,>=3.2.0->errant->gramformer==1.0) (1.0.5)\n",
      "Requirement already satisfied: murmurhash<1.1.0,>=0.28.0 in /Users/tadiparthia/Library/Python/3.9/lib/python/site-packages (from spacy<4,>=3.2.0->errant->gramformer==1.0) (1.0.10)\n",
      "Requirement already satisfied: cymem<2.1.0,>=2.0.2 in /Users/tadiparthia/Library/Python/3.9/lib/python/site-packages (from spacy<4,>=3.2.0->errant->gramformer==1.0) (2.0.8)\n",
      "Requirement already satisfied: preshed<3.1.0,>=3.0.2 in /Users/tadiparthia/Library/Python/3.9/lib/python/site-packages (from spacy<4,>=3.2.0->errant->gramformer==1.0) (3.0.9)\n",
      "Requirement already satisfied: thinc<8.3.0,>=8.2.2 in /Users/tadiparthia/Library/Python/3.9/lib/python/site-packages (from spacy<4,>=3.2.0->errant->gramformer==1.0) (8.2.3)\n",
      "Requirement already satisfied: wasabi<1.2.0,>=0.9.1 in /Users/tadiparthia/Library/Python/3.9/lib/python/site-packages (from spacy<4,>=3.2.0->errant->gramformer==1.0) (1.1.2)\n",
      "Requirement already satisfied: srsly<3.0.0,>=2.4.3 in /Users/tadiparthia/Library/Python/3.9/lib/python/site-packages (from spacy<4,>=3.2.0->errant->gramformer==1.0) (2.4.8)\n",
      "Requirement already satisfied: catalogue<2.1.0,>=2.0.6 in /Users/tadiparthia/Library/Python/3.9/lib/python/site-packages (from spacy<4,>=3.2.0->errant->gramformer==1.0) (2.0.10)\n",
      "Requirement already satisfied: weasel<0.4.0,>=0.1.0 in /Users/tadiparthia/Library/Python/3.9/lib/python/site-packages (from spacy<4,>=3.2.0->errant->gramformer==1.0) (0.3.4)\n",
      "Requirement already satisfied: typer<0.10.0,>=0.3.0 in /Users/tadiparthia/Library/Python/3.9/lib/python/site-packages (from spacy<4,>=3.2.0->errant->gramformer==1.0) (0.9.0)\n",
      "Requirement already satisfied: smart-open<7.0.0,>=5.2.1 in /Users/tadiparthia/Library/Python/3.9/lib/python/site-packages (from spacy<4,>=3.2.0->errant->gramformer==1.0) (6.4.0)\n",
      "Requirement already satisfied: pydantic!=1.8,!=1.8.1,<3.0.0,>=1.7.4 in /Users/tadiparthia/Library/Python/3.9/lib/python/site-packages (from spacy<4,>=3.2.0->errant->gramformer==1.0) (2.6.3)\n",
      "Requirement already satisfied: jinja2 in /Users/tadiparthia/Library/Python/3.9/lib/python/site-packages (from spacy<4,>=3.2.0->errant->gramformer==1.0) (3.1.2)\n",
      "Requirement already satisfied: setuptools in /Users/tadiparthia/Library/Python/3.9/lib/python/site-packages (from spacy<4,>=3.2.0->errant->gramformer==1.0) (69.1.1)\n",
      "Requirement already satisfied: langcodes<4.0.0,>=3.2.0 in /Users/tadiparthia/Library/Python/3.9/lib/python/site-packages (from spacy<4,>=3.2.0->errant->gramformer==1.0) (3.3.0)\n",
      "Requirement already satisfied: charset-normalizer<4,>=2 in /Users/tadiparthia/Library/Python/3.9/lib/python/site-packages (from requests->transformers->gramformer==1.0) (3.3.1)\n",
      "Requirement already satisfied: idna<4,>=2.5 in /Users/tadiparthia/Library/Python/3.9/lib/python/site-packages (from requests->transformers->gramformer==1.0) (3.4)\n",
      "Requirement already satisfied: urllib3<3,>=1.21.1 in /Users/tadiparthia/Library/Python/3.9/lib/python/site-packages (from requests->transformers->gramformer==1.0) (1.26.6)\n",
      "Requirement already satisfied: certifi>=2017.4.17 in /Users/tadiparthia/Library/Python/3.9/lib/python/site-packages (from requests->transformers->gramformer==1.0) (2023.7.22)\n",
      "Requirement already satisfied: annotated-types>=0.4.0 in /Users/tadiparthia/Library/Python/3.9/lib/python/site-packages (from pydantic!=1.8,!=1.8.1,<3.0.0,>=1.7.4->spacy<4,>=3.2.0->errant->gramformer==1.0) (0.6.0)\n",
      "Requirement already satisfied: pydantic-core==2.16.3 in /Users/tadiparthia/Library/Python/3.9/lib/python/site-packages (from pydantic!=1.8,!=1.8.1,<3.0.0,>=1.7.4->spacy<4,>=3.2.0->errant->gramformer==1.0) (2.16.3)\n",
      "Requirement already satisfied: blis<0.8.0,>=0.7.8 in /Users/tadiparthia/Library/Python/3.9/lib/python/site-packages (from thinc<8.3.0,>=8.2.2->spacy<4,>=3.2.0->errant->gramformer==1.0) (0.7.11)\n",
      "Requirement already satisfied: confection<1.0.0,>=0.0.1 in /Users/tadiparthia/Library/Python/3.9/lib/python/site-packages (from thinc<8.3.0,>=8.2.2->spacy<4,>=3.2.0->errant->gramformer==1.0) (0.1.4)\n",
      "Requirement already satisfied: click<9.0.0,>=7.1.1 in /Users/tadiparthia/Library/Python/3.9/lib/python/site-packages (from typer<0.10.0,>=0.3.0->spacy<4,>=3.2.0->errant->gramformer==1.0) (8.1.7)\n",
      "Requirement already satisfied: cloudpathlib<0.17.0,>=0.7.0 in /Users/tadiparthia/Library/Python/3.9/lib/python/site-packages (from weasel<0.4.0,>=0.1.0->spacy<4,>=3.2.0->errant->gramformer==1.0) (0.16.0)\n",
      "Requirement already satisfied: MarkupSafe>=2.0 in /Users/tadiparthia/Library/Python/3.9/lib/python/site-packages (from jinja2->spacy<4,>=3.2.0->errant->gramformer==1.0) (2.1.3)\n"
     ]
    }
   ],
   "source": [
    "!pip install git+https://github.com/PrithivirajDamodaran/Gramformer.git"
   ]
  },
  {
   "cell_type": "code",
   "execution_count": 10,
   "metadata": {},
   "outputs": [],
   "source": [
    "from gramformer import Gramformer"
   ]
  },
  {
   "cell_type": "markdown",
   "metadata": {},
   "source": [
    "# 2. Instantiate Gramformer"
   ]
  },
  {
   "cell_type": "code",
   "execution_count": 11,
   "metadata": {},
   "outputs": [],
   "source": [
    "gf = Gramformer(models=3, use_gpu=True) # 0 = detector, 1 = highlighter, 2 = corrector, 3 = all"
   ]
  },
  {
   "cell_type": "markdown",
   "metadata": {},
   "source": [
    "# 3. Run Correction"
   ]
  },
  {
   "cell_type": "code",
   "execution_count": 12,
   "metadata": {},
   "outputs": [
    {
     "name": "stdout",
     "output_type": "stream",
     "text": [
      "Model is not loaded\n"
     ]
    }
   ],
   "source": [
    "gf.correct('My camera battery a dead')"
   ]
  },
  {
   "cell_type": "code",
   "execution_count": 6,
   "metadata": {},
   "outputs": [],
   "source": [
    "sentences = [\n",
    "    'I like for walks', \n",
    "    'World is flat', \n",
    "    'Red a color', \n",
    "    'I wish my Computer was run faster.'\n",
    "]"
   ]
  },
  {
   "cell_type": "code",
   "execution_count": 7,
   "metadata": {},
   "outputs": [
    {
     "name": "stdout",
     "output_type": "stream",
     "text": [
      "Model is not loaded\n"
     ]
    },
    {
     "ename": "TypeError",
     "evalue": "'NoneType' object is not subscriptable",
     "output_type": "error",
     "traceback": [
      "\u001b[0;31m---------------------------------------------------------------------------\u001b[0m",
      "\u001b[0;31mTypeError\u001b[0m                                 Traceback (most recent call last)",
      "Cell \u001b[0;32mIn[7], line 3\u001b[0m\n\u001b[1;32m      1\u001b[0m \u001b[39mfor\u001b[39;00m sentence \u001b[39min\u001b[39;00m sentences:\n\u001b[1;32m      2\u001b[0m     res \u001b[39m=\u001b[39m gf\u001b[39m.\u001b[39mcorrect(sentence)\n\u001b[0;32m----> 3\u001b[0m     \u001b[39mprint\u001b[39m(res[\u001b[39m0\u001b[39;49m])\n",
      "\u001b[0;31mTypeError\u001b[0m: 'NoneType' object is not subscriptable"
     ]
    }
   ],
   "source": [
    "for sentence in sentences:\n",
    "    res = gf.correct(sentence)\n",
    "    print(res[0])"
   ]
  },
  {
   "cell_type": "markdown",
   "metadata": {},
   "source": [
    "# 4. Putting it Together with Gradio"
   ]
  },
  {
   "cell_type": "code",
   "execution_count": null,
   "metadata": {},
   "outputs": [],
   "source": [
    "!pip install gradio"
   ]
  },
  {
   "cell_type": "code",
   "execution_count": null,
   "metadata": {},
   "outputs": [],
   "source": [
    "import gradio as gr"
   ]
  },
  {
   "cell_type": "code",
   "execution_count": null,
   "metadata": {},
   "outputs": [],
   "source": [
    "def correct(sentence):\n",
    "    res = gf.correct(sentence) # Gramformer correct\n",
    "    return res[0] # Return first value in res array"
   ]
  },
  {
   "cell_type": "code",
   "execution_count": null,
   "metadata": {},
   "outputs": [],
   "source": [
    "app_inputs = gr.inputs.Textbox(lines=2, placeholder=\"Enter sentence here...\")"
   ]
  },
  {
   "cell_type": "code",
   "execution_count": null,
   "metadata": {},
   "outputs": [],
   "source": [
    "interface = gr.Interface(fn=correct, \n",
    "                        inputs=app_inputs,\n",
    "                         outputs='text', \n",
    "                        title='Sup, I\\'m Gramformer')"
   ]
  },
  {
   "cell_type": "code",
   "execution_count": null,
   "metadata": {},
   "outputs": [
    {
     "name": "stdout",
     "output_type": "stream",
     "text": [
      "Running locally at: http://127.0.0.1:7860/\n",
      "To create a public link, set `share=True` in `launch()`.\n",
      "Interface loading below...\n"
     ]
    },
    {
     "data": {
      "text/html": [
       "\n",
       "        <iframe\n",
       "            width=\"900\"\n",
       "            height=\"500\"\n",
       "            src=\"http://127.0.0.1:7860/\"\n",
       "            frameborder=\"0\"\n",
       "            allowfullscreen\n",
       "        ></iframe>\n",
       "        "
      ],
      "text/plain": [
       "<IPython.lib.display.IFrame at 0x265a2b07860>"
      ]
     },
     "metadata": {},
     "output_type": "display_data"
    },
    {
     "data": {
      "text/plain": [
       "(<Flask 'gradio.networking'>, 'http://127.0.0.1:7860/', None)"
      ]
     },
     "execution_count": 24,
     "metadata": {},
     "output_type": "execute_result"
    }
   ],
   "source": [
    "interface.launch()"
   ]
  }
 ],
 "metadata": {
  "kernelspec": {
   "display_name": "Python 3",
   "language": "python",
   "name": "python3"
  },
  "language_info": {
   "codemirror_mode": {
    "name": "ipython",
    "version": 3
   },
   "file_extension": ".py",
   "mimetype": "text/x-python",
   "name": "python",
   "nbconvert_exporter": "python",
   "pygments_lexer": "ipython3",
   "version": "3.9.6"
  }
 },
 "nbformat": 4,
 "nbformat_minor": 2
}
